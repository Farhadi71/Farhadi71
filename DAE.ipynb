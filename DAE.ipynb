{
  "cells": [
    {
      "cell_type": "markdown",
      "metadata": {
        "id": "Ff3jzSLj1ipV"
      },
      "source": [
        "**Full Name:**\n",
        "\n",
        "**Student Number:**\n"
      ]
    },
    {
      "cell_type": "markdown",
      "metadata": {
        "id": "ro9HhfS21uU5"
      },
      "source": [
        "# Denoising Autoencoder\n",
        "In this notebook, you are going to build and train a denoising autoencoder. The purpose of an autoencoder, a form of neural network, is to develop codings for data. \n",
        "\n",
        "An autoencoder has two parts: an encoder and a decoder. The encoder modifies the input data and produces a representation for the input in a smaller dimension, and the decoding function reconstructs the input data from the encoded representation. \n",
        "\n",
        "A denoising autoencoder is an autoencoder that gets noisy data as input and tries to produce the denoised output for that input."
      ]
    },
    {
      "cell_type": "code",
      "execution_count": 1,
      "metadata": {
        "execution": {
          "iopub.execute_input": "2023-03-13T21:23:52.248428Z",
          "iopub.status.busy": "2023-03-13T21:23:52.247979Z",
          "iopub.status.idle": "2023-03-13T21:23:52.255689Z",
          "shell.execute_reply": "2023-03-13T21:23:52.254646Z",
          "shell.execute_reply.started": "2023-03-13T21:23:52.248386Z"
        },
        "id": "eSY15EzYQoGE",
        "trusted": true
      },
      "outputs": [],
      "source": [
        "import matplotlib.pyplot as plt\n",
        "from torchvision import datasets, transforms\n",
        "import torch\n",
        "import numpy as np\n",
        "import torch.nn as nn\n",
        "import torch.optim as optim"
      ]
    },
    {
      "attachments": {},
      "cell_type": "markdown",
      "metadata": {
        "id": "gjdRpI0SQoGF"
      },
      "source": [
        "**For this question, it's highly recommended to use a CUDA-enabled environment.**\n",
        "We'll check for the availability of GPU and set `device` accordingly."
      ]
    },
    {
      "cell_type": "code",
      "execution_count": 2,
      "metadata": {
        "id": "Hl4FQT2TQoGG"
      },
      "outputs": [],
      "source": [
        "device = (torch.device('cuda') if torch.cuda.is_available() else torch.device('cpu'))"
      ]
    },
    {
      "cell_type": "markdown",
      "metadata": {
        "id": "jH24PfxK4ImU"
      },
      "source": [
        "## Preparing the data\n",
        "You'll use [Fashion MNIST](https://en.wikipedia.org/wiki/Fashion_MNIST) dataset to train your DAE."
      ]
    },
    {
      "cell_type": "code",
      "execution_count": 3,
      "metadata": {
        "colab": {
          "base_uri": "https://localhost:8080/",
          "height": 688,
          "referenced_widgets": [
            "7fd35240cd3844eeb55bb6016d5efee3",
            "7b4172d33d5348c49fbabd5454e67eab",
            "8f1673b688e744c7a2a2bd800c3dab93",
            "60d7282e48af4022a0dc83d8d7f27ade",
            "c5e2b488afb24d988b8ae6270ec00560",
            "ef05f79e3367435aaff946efafbfff82",
            "0dea842c41f04249863db1cf8c335408",
            "bb7b51fa98494714b73c7d6ecc7df14c",
            "5344c764d59b46e6850110a27eacf88e",
            "dbeab06580f948db930d5f0ab02168d4",
            "13fb00cec4824da58e008c518c6f9f62",
            "eeed7b1e65a74dbeb9c55d61d1633b02",
            "41098b7a254142549c2dc7bc58c16f73",
            "93d4906de9a94f93b9ff805ff2aba01c",
            "3f00e7d75a644fd5883382eeaea9e71b",
            "882719f543474485b6cf3cb3cfed5672",
            "638aa3b075fd43c08f83fa3cf12771d4",
            "368ea739b36145bc822457e03a011680",
            "bc07d64839c048f4938c1f68adec3835",
            "c8f0b34927144c6ab8661effd74b6b0c",
            "3235b79cd0934bb89aac93b55ec3bfc3",
            "de42b04378764dc68cb742253ecaca25",
            "75d41e050393451c9014acd95967d91e",
            "02cd50738afb44bdbd8d9f8936ab733f",
            "d67d95ab69ab483e8965d7277d7bf9e2",
            "5b7339c417cd477d9f0e65f2bbe4a405",
            "72df9e0ad3d74ad2a5e54776a7b746e9",
            "5bf0f83539054c319f92a0f6e7f2e079",
            "89cb0d2b2b874b26afea42b13dc874b1",
            "7a485d39e9a1467eb371fc85420a8a66",
            "f368beacdf45466dafc0d2799b9c0368",
            "bd641ee5b38c4615a6f85c509ee135d0",
            "92e3a4901be5403da72fd858854c7fe3",
            "479c49b5299849da95f78c3523f24c15",
            "a0eee23bc65946bbb027e1563935c9e5",
            "ace068212eab4779a696162d9a8d694d",
            "ea55b3ac9187449c9b01b17a05074007",
            "8b7361919604413cbf31fea2f116e6fa",
            "40c0f943a57c47e5bfd89b1dc0a23e2a",
            "537ab70a3f5c4862bb5771feaeacb492",
            "d32ee14f8b484ca382902a49fa5b7b0a",
            "bc7c7d40fd294f64a8ed8fc9cb136930",
            "b63b2e09771c48278fd4aae4eec47e6a",
            "78b3d823b8914138a81ffa2509ed2d8c"
          ]
        },
        "execution": {
          "iopub.execute_input": "2023-03-13T21:23:52.288655Z",
          "iopub.status.busy": "2023-03-13T21:23:52.288307Z",
          "iopub.status.idle": "2023-03-13T21:23:53.023437Z",
          "shell.execute_reply": "2023-03-13T21:23:53.022458Z",
          "shell.execute_reply.started": "2023-03-13T21:23:52.288619Z"
        },
        "id": "x3UIzJGS9Cb9",
        "outputId": "81fdab51-55f3-4555-a2bd-36f2b1aef1e1",
        "trusted": true
      },
      "outputs": [
        {
          "name": "stdout",
          "output_type": "stream",
          "text": [
            "Downloading http://fashion-mnist.s3-website.eu-central-1.amazonaws.com/train-images-idx3-ubyte.gz\n",
            "Downloading http://fashion-mnist.s3-website.eu-central-1.amazonaws.com/train-images-idx3-ubyte.gz to ./FashionMNIST/raw/train-images-idx3-ubyte.gz\n"
          ]
        },
        {
          "data": {
            "application/vnd.jupyter.widget-view+json": {
              "model_id": "7fd35240cd3844eeb55bb6016d5efee3",
              "version_major": 2,
              "version_minor": 0
            },
            "text/plain": [
              "  0%|          | 0/26421880 [00:00<?, ?it/s]"
            ]
          },
          "metadata": {},
          "output_type": "display_data"
        },
        {
          "name": "stdout",
          "output_type": "stream",
          "text": [
            "Extracting ./FashionMNIST/raw/train-images-idx3-ubyte.gz to ./FashionMNIST/raw\n",
            "\n",
            "Downloading http://fashion-mnist.s3-website.eu-central-1.amazonaws.com/train-labels-idx1-ubyte.gz\n",
            "Downloading http://fashion-mnist.s3-website.eu-central-1.amazonaws.com/train-labels-idx1-ubyte.gz to ./FashionMNIST/raw/train-labels-idx1-ubyte.gz\n"
          ]
        },
        {
          "data": {
            "application/vnd.jupyter.widget-view+json": {
              "model_id": "eeed7b1e65a74dbeb9c55d61d1633b02",
              "version_major": 2,
              "version_minor": 0
            },
            "text/plain": [
              "  0%|          | 0/29515 [00:00<?, ?it/s]"
            ]
          },
          "metadata": {},
          "output_type": "display_data"
        },
        {
          "name": "stdout",
          "output_type": "stream",
          "text": [
            "Extracting ./FashionMNIST/raw/train-labels-idx1-ubyte.gz to ./FashionMNIST/raw\n",
            "\n",
            "Downloading http://fashion-mnist.s3-website.eu-central-1.amazonaws.com/t10k-images-idx3-ubyte.gz\n",
            "Downloading http://fashion-mnist.s3-website.eu-central-1.amazonaws.com/t10k-images-idx3-ubyte.gz to ./FashionMNIST/raw/t10k-images-idx3-ubyte.gz\n"
          ]
        },
        {
          "data": {
            "application/vnd.jupyter.widget-view+json": {
              "model_id": "75d41e050393451c9014acd95967d91e",
              "version_major": 2,
              "version_minor": 0
            },
            "text/plain": [
              "  0%|          | 0/4422102 [00:00<?, ?it/s]"
            ]
          },
          "metadata": {},
          "output_type": "display_data"
        },
        {
          "name": "stdout",
          "output_type": "stream",
          "text": [
            "Extracting ./FashionMNIST/raw/t10k-images-idx3-ubyte.gz to ./FashionMNIST/raw\n",
            "\n",
            "Downloading http://fashion-mnist.s3-website.eu-central-1.amazonaws.com/t10k-labels-idx1-ubyte.gz\n",
            "Downloading http://fashion-mnist.s3-website.eu-central-1.amazonaws.com/t10k-labels-idx1-ubyte.gz to ./FashionMNIST/raw/t10k-labels-idx1-ubyte.gz\n"
          ]
        },
        {
          "data": {
            "application/vnd.jupyter.widget-view+json": {
              "model_id": "479c49b5299849da95f78c3523f24c15",
              "version_major": 2,
              "version_minor": 0
            },
            "text/plain": [
              "  0%|          | 0/5148 [00:00<?, ?it/s]"
            ]
          },
          "metadata": {},
          "output_type": "display_data"
        },
        {
          "name": "stdout",
          "output_type": "stream",
          "text": [
            "Extracting ./FashionMNIST/raw/t10k-labels-idx1-ubyte.gz to ./FashionMNIST/raw\n",
            "\n"
          ]
        },
        {
          "data": {
            "image/png": "[encoded data removed]",
            "text/plain": [
              "<Figure size 432x288 with 1 Axes>"
            ]
          },
          "metadata": {
            "needs_background": "light"
          },
          "output_type": "display_data"
        },
        {
          "name": "stdout",
          "output_type": "stream",
          "text": [
            "torch.Size([60000, 28, 28]) torch.Size([10000, 28, 28])\n"
          ]
        }
      ],
      "source": [
        "fm_train_set = datasets.FashionMNIST(root='./', train=True, download=True, transform=transforms.ToTensor())\n",
        "fm_test_set = datasets.FashionMNIST(root='./', train=False, download=True, transform=transforms.ToTensor())\n",
        "\n",
        "# For both the `fm_train_set` and `fm_test_set` only keep the \n",
        "# images and leave out the labels.\n",
        "# Also, normalize the values to be between [0, 1].\n",
        "##############################\n",
        "# Your code goes here (5 points)\n",
        "\n",
        "##############################\n",
        "\n",
        "plt.imshow(train_imgs[1].unsqueeze(0).permute(1, 2, 0))\n",
        "plt.show()\n",
        "print(train_imgs.shape, test_imgs.shape)"
      ]
    },
    {
      "cell_type": "code",
      "execution_count": 4,
      "metadata": {
        "colab": {
          "base_uri": "https://localhost:8080/",
          "height": 201
        },
        "execution": {
          "iopub.execute_input": "2023-03-13T21:23:53.030786Z",
          "iopub.status.busy": "2023-03-13T21:23:53.028499Z",
          "iopub.status.idle": "2023-03-13T21:23:54.761873Z",
          "shell.execute_reply": "2023-03-13T21:23:54.760870Z",
          "shell.execute_reply.started": "2023-03-13T21:23:53.030745Z"
        },
        "id": "X6tSn7JZ97Lv",
        "outputId": "fe76359c-fc38-4873-f9f5-7979a3f55e6f",
        "trusted": true
      },
      "outputs": [
        {
          "data": {
            "image/png": "[encoded data removed]",
            "text/plain": [
              "<Figure size 432x288 with 2 Axes>"
            ]
          },
          "metadata": {
            "needs_background": "light"
          },
          "output_type": "display_data"
        }
      ],
      "source": [
        "# For each image in our training and test sets,\n",
        "# create a noisy version of the image.\n",
        "# We'll use these noisy images as input data for the\n",
        "# dataset we're going to create. The labels of this dataset\n",
        "# would be the original images.\n",
        "##############################\n",
        "# Your code goes here (10 points)\n",
        "\n",
        "##############################\n",
        "f = plt.figure()\n",
        "f.add_subplot(1, 2, 1)\n",
        "plt.imshow(noisy_train_imgs[0])\n",
        "f.add_subplot(1, 2, 2)\n",
        "plt.imshow(noisy_test_imgs[0])\n",
        "plt.show()"
      ]
    },
    {
      "cell_type": "code",
      "execution_count": 5,
      "metadata": {
        "colab": {
          "base_uri": "https://localhost:8080/",
          "height": 201
        },
        "execution": {
          "iopub.execute_input": "2023-03-13T21:23:54.763845Z",
          "iopub.status.busy": "2023-03-13T21:23:54.763479Z",
          "iopub.status.idle": "2023-03-13T21:23:55.295922Z",
          "shell.execute_reply": "2023-03-13T21:23:55.294875Z",
          "shell.execute_reply.started": "2023-03-13T21:23:54.763807Z"
        },
        "id": "9lDsusBuHdZx",
        "outputId": "6a70ca5b-fcbe-4963-95f9-f5f1e1a44bce",
        "trusted": true
      },
      "outputs": [
        {
          "data": {
            "image/png": "[encoded data removed]",
            "text/plain": [
              "<Figure size 432x288 with 2 Axes>"
            ]
          },
          "metadata": {
            "needs_background": "light"
          },
          "output_type": "display_data"
        }
      ],
      "source": [
        "# Now we want to construct our new training and test sets.\n",
        "# To do so, you'll use the noisy images you've created for each set\n",
        "# as input for the new dataset and the original Fashion MNIST images as labels.\n",
        "\n",
        "# Construct `training_set` (data, label) pairs.\n",
        "##############################\n",
        "# Your code goes here (10 points)\n",
        "\n",
        "##############################\n",
        "\n",
        "f = plt.figure()\n",
        "f.add_subplot(1, 2, 1)\n",
        "plt.imshow(train_set[0][0]) \n",
        "f.add_subplot(1, 2, 2)\n",
        "plt.imshow(train_set[0][1])\n",
        "plt.show()"
      ]
    },
    {
      "cell_type": "code",
      "execution_count": 6,
      "metadata": {
        "colab": {
          "base_uri": "https://localhost:8080/",
          "height": 201
        },
        "execution": {
          "iopub.execute_input": "2023-03-13T21:23:55.299213Z",
          "iopub.status.busy": "2023-03-13T21:23:55.298794Z",
          "iopub.status.idle": "2023-03-13T21:23:55.775953Z",
          "shell.execute_reply": "2023-03-13T21:23:55.774983Z",
          "shell.execute_reply.started": "2023-03-13T21:23:55.299170Z"
        },
        "id": "H6htoQ198phK",
        "outputId": "778367af-4fc4-4778-aa8a-62a4e317326a",
        "trusted": true
      },
      "outputs": [
        {
          "data": {
            "image/png": "[encoded data removed]",
            "text/plain": [
              "<Figure size 432x288 with 2 Axes>"
            ]
          },
          "metadata": {
            "needs_background": "light"
          },
          "output_type": "display_data"
        }
      ],
      "source": [
        "# Construct `test_set` (data, label) pairs.\n",
        "##############################\n",
        "# Your code goes here (5 points)\n",
        "\n",
        "##############################\n",
        "\n",
        "f = plt.figure()\n",
        "f.add_subplot(1, 2, 1)\n",
        "plt.imshow(test_set[0][0]) \n",
        "f.add_subplot(1, 2, 2)\n",
        "plt.imshow(test_set[0][1])\n",
        "plt.show()"
      ]
    },
    {
      "cell_type": "code",
      "execution_count": null,
      "metadata": {
        "execution": {
          "iopub.execute_input": "2023-03-13T21:23:55.778842Z",
          "iopub.status.busy": "2023-03-13T21:23:55.777788Z",
          "iopub.status.idle": "2023-03-13T21:23:55.787180Z",
          "shell.execute_reply": "2023-03-13T21:23:55.785983Z",
          "shell.execute_reply.started": "2023-03-13T21:23:55.778801Z"
        },
        "id": "ttqZW5179AfM",
        "trusted": true
      },
      "outputs": [],
      "source": [
        "# Finally, create DataLoaders for the datasets.\n",
        "# Use a batch size of 128 and enable shuffling.\n",
        "##############################\n",
        "# Your code goes here (5 points)\n",
        "\n",
        "##############################\n",
        "\n",
        "train_loader, test_loader"
      ]
    },
    {
      "cell_type": "markdown",
      "metadata": {
        "id": "MP1J7bvo9ZZ0"
      },
      "source": [
        "## Creating the Model\n"
      ]
    },
    {
      "cell_type": "markdown",
      "metadata": {
        "id": "e0XTrc5V-UqR"
      },
      "source": [
        "In this part, you're going to create the DAE model."
      ]
    },
    {
      "cell_type": "code",
      "execution_count": 8,
      "metadata": {
        "colab": {
          "base_uri": "https://localhost:8080/"
        },
        "execution": {
          "iopub.execute_input": "2023-03-13T21:23:55.789323Z",
          "iopub.status.busy": "2023-03-13T21:23:55.788683Z",
          "iopub.status.idle": "2023-03-13T21:23:55.813154Z",
          "shell.execute_reply": "2023-03-13T21:23:55.812001Z",
          "shell.execute_reply.started": "2023-03-13T21:23:55.789286Z"
        },
        "id": "-cL4_Z5QQoGP",
        "outputId": "a497feaf-8c8b-4282-8c81-8e5c568f5e15",
        "trusted": true
      },
      "outputs": [
        {
          "data": {
            "text/plain": [
              "Sequential(\n",
              "  (0): Conv2d(1, 8, kernel_size=(3, 3), stride=(2, 2), padding=(1, 1))\n",
              "  (1): ReLU(inplace=True)\n",
              "  (2): BatchNorm2d(8, eps=1e-05, momentum=0.1, affine=True, track_running_stats=True)\n",
              "  (3): Conv2d(8, 16, kernel_size=(3, 3), stride=(2, 2), padding=(1, 1))\n",
              "  (4): BatchNorm2d(16, eps=1e-05, momentum=0.1, affine=True, track_running_stats=True)\n",
              "  (5): ReLU(inplace=True)\n",
              "  (6): Conv2d(16, 32, kernel_size=(3, 3), stride=(2, 2))\n",
              "  (7): ReLU(inplace=True)\n",
              "  (8): Flatten(start_dim=1, end_dim=-1)\n",
              "  (9): Linear(in_features=288, out_features=128, bias=True)\n",
              "  (10): ReLU(inplace=True)\n",
              "  (11): Linear(in_features=128, out_features=64, bias=True)\n",
              "  (12): ReLU(inplace=True)\n",
              "  (13): Linear(in_features=64, out_features=10, bias=True)\n",
              ")"
            ]
          },
          "execution_count": 8,
          "metadata": {},
          "output_type": "execute_result"
        }
      ],
      "source": [
        "# The encoder takes the input and outputs the `encoded representation`.\n",
        "# Create the encoder using nn.Sequential (You can use the architecture \n",
        "# shown in this cell's output).\n",
        "# Use Conv2d layers followed by ReLU.\n",
        "# After conv2d layers, flatten the data and use linear layers to\n",
        "# smoothly transform the output from conv2d layers into the encoded space.\n",
        "# Set the encoded space dimensions to 10 * 1.\n",
        "##############################\n",
        "# Your code goes here (15 points)\n",
        "\n",
        "##############################\n",
        "encoder"
      ]
    },
    {
      "cell_type": "code",
      "execution_count": 9,
      "metadata": {
        "execution": {
          "iopub.execute_input": "2023-03-13T21:23:55.815573Z",
          "iopub.status.busy": "2023-03-13T21:23:55.814987Z",
          "iopub.status.idle": "2023-03-13T21:23:55.825312Z",
          "shell.execute_reply": "2023-03-13T21:23:55.824343Z",
          "shell.execute_reply.started": "2023-03-13T21:23:55.815537Z"
        },
        "id": "i8GHFvZgEXBQ",
        "trusted": true
      },
      "outputs": [],
      "source": [
        "# The decoder takes the encoded data generated by the encoder\n",
        "# and outputs the original input.\n",
        "# Create the decoder using nn.Sequential.\n",
        "# Reverse the operations used in encoder.\n",
        "##############################\n",
        "# Your code goes here (15 points)\n",
        "\n",
        "##############################"
      ]
    },
    {
      "cell_type": "markdown",
      "metadata": {
        "id": "BFizsk0uQoGS"
      },
      "source": [
        "Now we can construct the DAE by sequentially connecting the `encoder` and `decoder` networks."
      ]
    },
    {
      "cell_type": "code",
      "execution_count": 10,
      "metadata": {
        "execution": {
          "iopub.execute_input": "2023-03-13T21:23:55.827188Z",
          "iopub.status.busy": "2023-03-13T21:23:55.826819Z",
          "iopub.status.idle": "2023-03-13T21:23:55.844484Z",
          "shell.execute_reply": "2023-03-13T21:23:55.843466Z",
          "shell.execute_reply.started": "2023-03-13T21:23:55.827153Z"
        },
        "id": "LNrlFOjwQoGT",
        "trusted": true
      },
      "outputs": [],
      "source": [
        "DAE = nn.Sequential(encoder, decoder).to(device=device)"
      ]
    },
    {
      "cell_type": "markdown",
      "metadata": {
        "id": "kuzVAxFQ90i6"
      },
      "source": [
        "## Training the DAE"
      ]
    },
    {
      "cell_type": "markdown",
      "metadata": {
        "id": "Q0qsXXDRQoGU"
      },
      "source": [
        "### Visualizing the Latent Space"
      ]
    },
    {
      "cell_type": "markdown",
      "metadata": {
        "id": "zbv21G1FQoGV"
      },
      "source": [
        "During the training, we intend to visualize the *encoded representations* learned by the DAE every 10 epochs. You are going to use T-SNE for this purpose. In order to do so, you have to pass the selected samples to the encoder and retrieve the encoded vectors. Then you can visualize these vectors on a plane and colorize the points according to the class of object each represent."
      ]
    },
    {
      "cell_type": "code",
      "execution_count": null,
      "metadata": {
        "execution": {
          "iopub.execute_input": "2023-03-13T21:23:55.846595Z",
          "iopub.status.busy": "2023-03-13T21:23:55.846228Z",
          "iopub.status.idle": "2023-03-13T21:24:18.972572Z",
          "shell.execute_reply": "2023-03-13T21:24:18.970465Z",
          "shell.execute_reply.started": "2023-03-13T21:23:55.846560Z"
        },
        "id": "HZihpzh3rabQ",
        "trusted": true
      },
      "outputs": [],
      "source": [
        "from sklearn.manifold import TSNE\n",
        "\n",
        "def visualize():\n",
        "  # Plot the encoded representations of the first 2000\n",
        "  # images from `fm_train_set` on a plane.\n",
        "  # You must first pass the images to\n",
        "  # the encoder to get the encoded vectors, and then you\n",
        "  # must transform these vectors to 2D space using TSNE\n",
        "  # and plot the points.\n",
        "  ##############################\n",
        "  # Your code goes here (15 points)\n",
        "\n",
        "  ##############################\n",
        "\n",
        "# Testing the function\n",
        "visualize()"
      ]
    },
    {
      "cell_type": "code",
      "execution_count": 12,
      "metadata": {
        "execution": {
          "iopub.execute_input": "2023-03-13T21:24:18.976588Z",
          "iopub.status.busy": "2023-03-13T21:24:18.975400Z",
          "iopub.status.idle": "2023-03-13T21:24:18.986022Z",
          "shell.execute_reply": "2023-03-13T21:24:18.984832Z",
          "shell.execute_reply.started": "2023-03-13T21:24:18.976551Z"
        },
        "id": "j40byIxlRJ6c",
        "trusted": true
      },
      "outputs": [],
      "source": [
        "def train(n_epochs, optimizer, model, loss_fn, train_loader):\n",
        "    for epoch in range(1, n_epochs + 1):\n",
        "        loss_train = 0.0\n",
        "        for imgs, labels in train_loader:\n",
        "            # Compute the output.\n",
        "            # Use GPU for your data if possible.\n",
        "            ##############################\n",
        "            # Your code goes here (5 points)\n",
        "\n",
        "            ##############################\n",
        "\n",
        "            # Using `loss_fn` and `optimizer`, compute the loss and do the backprop step.\n",
        "            ##############################\n",
        "            # Your code goes here (5 points)\n",
        "\n",
        "            ##############################\n",
        "            \n",
        "        print('Epoch {}, Training loss {}'.format(epoch, loss_train / len(train_loader)))\n",
        "        # Every 10 epochs, we visualize the encoded representations.\n",
        "        if epoch % 10 == 0:\n",
        "          visualize()"
      ]
    },
    {
      "cell_type": "code",
      "execution_count": null,
      "metadata": {
        "execution": {
          "iopub.execute_input": "2023-03-13T21:24:18.987771Z",
          "iopub.status.busy": "2023-03-13T21:24:18.987349Z",
          "iopub.status.idle": "2023-03-13T21:26:05.765182Z",
          "shell.execute_reply": "2023-03-13T21:26:05.764216Z",
          "shell.execute_reply.started": "2023-03-13T21:24:18.987733Z"
        },
        "id": "W_KSfMn-Ques",
        "trusted": true
      },
      "outputs": [],
      "source": [
        "epochs = 20\n",
        "# Train the DAE. use MSE as the loss function and \n",
        "# use Adam for the optimizer. Set the learning rate to 1e-3.\n",
        "##############################\n",
        "# Your code goes here (5 points)\n",
        "\n",
        "##############################"
      ]
    },
    {
      "cell_type": "code",
      "execution_count": null,
      "metadata": {
        "execution": {
          "iopub.execute_input": "2023-03-13T21:26:05.767179Z",
          "iopub.status.busy": "2023-03-13T21:26:05.766786Z",
          "iopub.status.idle": "2023-03-13T21:26:06.365865Z",
          "shell.execute_reply": "2023-03-13T21:26:06.364841Z",
          "shell.execute_reply.started": "2023-03-13T21:26:05.767140Z"
        },
        "id": "2Iw04vwfQ1Ek",
        "trusted": true
      },
      "outputs": [],
      "source": [
        "# Use 10 examples from the testing set to evaluate the \n",
        "# DAE's outputs visually.\n",
        "##############################\n",
        "# Your code goes here (5 points)\n",
        "\n",
        "##############################"
      ]
    }
  ],
  "metadata": {
    "accelerator": "GPU",
    "colab": {
      "provenance": []
    },
    "gpuClass": "standard",
    "kernelspec": {
      "display_name": "Python 3",
      "language": "python",
      "name": "python3"
    },
    "language_info": {
      "codemirror_mode": {
        "name": "ipython",
        "version": 3
      },
      "file_extension": ".py",
      "mimetype": "text/x-python",
      "name": "python",
      "nbconvert_exporter": "python",
      "pygments_lexer": "ipython3",
      "version": "3.7.12"
    },
    "widgets": {
      "application/vnd.jupyter.widget-state+json": {
        "02cd50738afb44bdbd8d9f8936ab733f": {
          "model_module": "@jupyter-widgets/controls",
          "model_module_version": "1.5.0",
          "model_name": "HTMLModel",
          "state": {
            "_dom_classes": [],
            "_model_module": "@jupyter-widgets/controls",
            "_model_module_version": "1.5.0",
            "_model_name": "HTMLModel",
            "_view_count": null,
            "_view_module": "@jupyter-widgets/controls",
            "_view_module_version": "1.5.0",
            "_view_name": "HTMLView",
            "description": "",
            "description_tooltip": null,
            "layout": "IPY_MODEL_5bf0f83539054c319f92a0f6e7f2e079",
            "placeholder": "​",
            "style": "IPY_MODEL_89cb0d2b2b874b26afea42b13dc874b1",
            "value": "100%"
          }
        },
        "0dea842c41f04249863db1cf8c335408": {
          "model_module": "@jupyter-widgets/controls",
          "model_module_version": "1.5.0",
          "model_name": "DescriptionStyleModel",
          "state": {
            "_model_module": "@jupyter-widgets/controls",
            "_model_module_version": "1.5.0",
            "_model_name": "DescriptionStyleModel",
            "_view_count": null,
            "_view_module": "@jupyter-widgets/base",
            "_view_module_version": "1.2.0",
            "_view_name": "StyleView",
            "description_width": ""
          }
        },
        "13fb00cec4824da58e008c518c6f9f62": {
          "model_module": "@jupyter-widgets/controls",
          "model_module_version": "1.5.0",
          "model_name": "DescriptionStyleModel",
          "state": {
            "_model_module": "@jupyter-widgets/controls",
            "_model_module_version": "1.5.0",
            "_model_name": "DescriptionStyleModel",
            "_view_count": null,
            "_view_module": "@jupyter-widgets/base",
            "_view_module_version": "1.2.0",
            "_view_name": "StyleView",
            "description_width": ""
          }
        },
        "3235b79cd0934bb89aac93b55ec3bfc3": {
          "model_module": "@jupyter-widgets/base",
          "model_module_version": "1.2.0",
          "model_name": "LayoutModel",
          "state": {
            "_model_module": "@jupyter-widgets/base",
            "_model_module_version": "1.2.0",
            "_model_name": "LayoutModel",
            "_view_count": null,
            "_view_module": "@jupyter-widgets/base",
            "_view_module_version": "1.2.0",
            "_view_name": "LayoutView",
            "align_content": null,
            "align_items": null,
            "align_self": null,
            "border": null,
            "bottom": null,
            "display": null,
            "flex": null,
            "flex_flow": null,
            "grid_area": null,
            "grid_auto_columns": null,
            "grid_auto_flow": null,
            "grid_auto_rows": null,
            "grid_column": null,
            "grid_gap": null,
            "grid_row": null,
            "grid_template_areas": null,
            "grid_template_columns": null,
            "grid_template_rows": null,
            "height": null,
            "justify_content": null,
            "justify_items": null,
            "left": null,
            "margin": null,
            "max_height": null,
            "max_width": null,
            "min_height": null,
            "min_width": null,
            "object_fit": null,
            "object_position": null,
            "order": null,
            "overflow": null,
            "overflow_x": null,
            "overflow_y": null,
            "padding": null,
            "right": null,
            "top": null,
            "visibility": null,
            "width": null
          }
        },
        "368ea739b36145bc822457e03a011680": {
          "model_module": "@jupyter-widgets/controls",
          "model_module_version": "1.5.0",
          "model_name": "DescriptionStyleModel",
          "state": {
            "_model_module": "@jupyter-widgets/controls",
            "_model_module_version": "1.5.0",
            "_model_name": "DescriptionStyleModel",
            "_view_count": null,
            "_view_module": "@jupyter-widgets/base",
            "_view_module_version": "1.2.0",
            "_view_name": "StyleView",
            "description_width": ""
          }
        },
        "3f00e7d75a644fd5883382eeaea9e71b": {
          "model_module": "@jupyter-widgets/controls",
          "model_module_version": "1.5.0",
          "model_name": "HTMLModel",
          "state": {
            "_dom_classes": [],
            "_model_module": "@jupyter-widgets/controls",
            "_model_module_version": "1.5.0",
            "_model_name": "HTMLModel",
            "_view_count": null,
            "_view_module": "@jupyter-widgets/controls",
            "_view_module_version": "1.5.0",
            "_view_name": "HTMLView",
            "description": "",
            "description_tooltip": null,
            "layout": "IPY_MODEL_3235b79cd0934bb89aac93b55ec3bfc3",
            "placeholder": "​",
            "style": "IPY_MODEL_de42b04378764dc68cb742253ecaca25",
            "value": " 29515/29515 [00:00&lt;00:00, 209886.94it/s]"
          }
        },
        "40c0f943a57c47e5bfd89b1dc0a23e2a": {
          "model_module": "@jupyter-widgets/base",
          "model_module_version": "1.2.0",
          "model_name": "LayoutModel",
          "state": {
            "_model_module": "@jupyter-widgets/base",
            "_model_module_version": "1.2.0",
            "_model_name": "LayoutModel",
            "_view_count": null,
            "_view_module": "@jupyter-widgets/base",
            "_view_module_version": "1.2.0",
            "_view_name": "LayoutView",
            "align_content": null,
            "align_items": null,
            "align_self": null,
            "border": null,
            "bottom": null,
            "display": null,
            "flex": null,
            "flex_flow": null,
            "grid_area": null,
            "grid_auto_columns": null,
            "grid_auto_flow": null,
            "grid_auto_rows": null,
            "grid_column": null,
            "grid_gap": null,
            "grid_row": null,
            "grid_template_areas": null,
            "grid_template_columns": null,
            "grid_template_rows": null,
            "height": null,
            "justify_content": null,
            "justify_items": null,
            "left": null,
            "margin": null,
            "max_height": null,
            "max_width": null,
            "min_height": null,
            "min_width": null,
            "object_fit": null,
            "object_position": null,
            "order": null,
            "overflow": null,
            "overflow_x": null,
            "overflow_y": null,
            "padding": null,
            "right": null,
            "top": null,
            "visibility": null,
            "width": null
          }
        },
        "41098b7a254142549c2dc7bc58c16f73": {
          "model_module": "@jupyter-widgets/controls",
          "model_module_version": "1.5.0",
          "model_name": "HTMLModel",
          "state": {
            "_dom_classes": [],
            "_model_module": "@jupyter-widgets/controls",
            "_model_module_version": "1.5.0",
            "_model_name": "HTMLModel",
            "_view_count": null,
            "_view_module": "@jupyter-widgets/controls",
            "_view_module_version": "1.5.0",
            "_view_name": "HTMLView",
            "description": "",
            "description_tooltip": null,
            "layout": "IPY_MODEL_638aa3b075fd43c08f83fa3cf12771d4",
            "placeholder": "​",
            "style": "IPY_MODEL_368ea739b36145bc822457e03a011680",
            "value": "100%"
          }
        },
        "479c49b5299849da95f78c3523f24c15": {
          "model_module": "@jupyter-widgets/controls",
          "model_module_version": "1.5.0",
          "model_name": "HBoxModel",
          "state": {
            "_dom_classes": [],
            "_model_module": "@jupyter-widgets/controls",
            "_model_module_version": "1.5.0",
            "_model_name": "HBoxModel",
            "_view_count": null,
            "_view_module": "@jupyter-widgets/controls",
            "_view_module_version": "1.5.0",
            "_view_name": "HBoxView",
            "box_style": "",
            "children": [
              "IPY_MODEL_a0eee23bc65946bbb027e1563935c9e5",
              "IPY_MODEL_ace068212eab4779a696162d9a8d694d",
              "IPY_MODEL_ea55b3ac9187449c9b01b17a05074007"
            ],
            "layout": "IPY_MODEL_8b7361919604413cbf31fea2f116e6fa"
          }
        },
        "5344c764d59b46e6850110a27eacf88e": {
          "model_module": "@jupyter-widgets/controls",
          "model_module_version": "1.5.0",
          "model_name": "ProgressStyleModel",
          "state": {
            "_model_module": "@jupyter-widgets/controls",
            "_model_module_version": "1.5.0",
            "_model_name": "ProgressStyleModel",
            "_view_count": null,
            "_view_module": "@jupyter-widgets/base",
            "_view_module_version": "1.2.0",
            "_view_name": "StyleView",
            "bar_color": null,
            "description_width": ""
          }
        },
        "537ab70a3f5c4862bb5771feaeacb492": {
          "model_module": "@jupyter-widgets/controls",
          "model_module_version": "1.5.0",
          "model_name": "DescriptionStyleModel",
          "state": {
            "_model_module": "@jupyter-widgets/controls",
            "_model_module_version": "1.5.0",
            "_model_name": "DescriptionStyleModel",
            "_view_count": null,
            "_view_module": "@jupyter-widgets/base",
            "_view_module_version": "1.2.0",
            "_view_name": "StyleView",
            "description_width": ""
          }
        },
        "5b7339c417cd477d9f0e65f2bbe4a405": {
          "model_module": "@jupyter-widgets/controls",
          "model_module_version": "1.5.0",
          "model_name": "HTMLModel",
          "state": {
            "_dom_classes": [],
            "_model_module": "@jupyter-widgets/controls",
            "_model_module_version": "1.5.0",
            "_model_name": "HTMLModel",
            "_view_count": null,
            "_view_module": "@jupyter-widgets/controls",
            "_view_module_version": "1.5.0",
            "_view_name": "HTMLView",
            "description": "",
            "description_tooltip": null,
            "layout": "IPY_MODEL_bd641ee5b38c4615a6f85c509ee135d0",
            "placeholder": "​",
            "style": "IPY_MODEL_92e3a4901be5403da72fd858854c7fe3",
            "value": " 4422102/4422102 [00:01&lt;00:00, 6647178.84it/s]"
          }
        },
        "5bf0f83539054c319f92a0f6e7f2e079": {
          "model_module": "@jupyter-widgets/base",
          "model_module_version": "1.2.0",
          "model_name": "LayoutModel",
          "state": {
            "_model_module": "@jupyter-widgets/base",
            "_model_module_version": "1.2.0",
            "_model_name": "LayoutModel",
            "_view_count": null,
            "_view_module": "@jupyter-widgets/base",
            "_view_module_version": "1.2.0",
            "_view_name": "LayoutView",
            "align_content": null,
            "align_items": null,
            "align_self": null,
            "border": null,
            "bottom": null,
            "display": null,
            "flex": null,
            "flex_flow": null,
            "grid_area": null,
            "grid_auto_columns": null,
            "grid_auto_flow": null,
            "grid_auto_rows": null,
            "grid_column": null,
            "grid_gap": null,
            "grid_row": null,
            "grid_template_areas": null,
            "grid_template_columns": null,
            "grid_template_rows": null,
            "height": null,
            "justify_content": null,
            "justify_items": null,
            "left": null,
            "margin": null,
            "max_height": null,
            "max_width": null,
            "min_height": null,
            "min_width": null,
            "object_fit": null,
            "object_position": null,
            "order": null,
            "overflow": null,
            "overflow_x": null,
            "overflow_y": null,
            "padding": null,
            "right": null,
            "top": null,
            "visibility": null,
            "width": null
          }
        },
        "60d7282e48af4022a0dc83d8d7f27ade": {
          "model_module": "@jupyter-widgets/controls",
          "model_module_version": "1.5.0",
          "model_name": "HTMLModel",
          "state": {
            "_dom_classes": [],
            "_model_module": "@jupyter-widgets/controls",
            "_model_module_version": "1.5.0",
            "_model_name": "HTMLModel",
            "_view_count": null,
            "_view_module": "@jupyter-widgets/controls",
            "_view_module_version": "1.5.0",
            "_view_name": "HTMLView",
            "description": "",
            "description_tooltip": null,
            "layout": "IPY_MODEL_dbeab06580f948db930d5f0ab02168d4",
            "placeholder": "​",
            "style": "IPY_MODEL_13fb00cec4824da58e008c518c6f9f62",
            "value": " 26421880/26421880 [00:03&lt;00:00, 11121738.67it/s]"
          }
        },
        "638aa3b075fd43c08f83fa3cf12771d4": {
          "model_module": "@jupyter-widgets/base",
          "model_module_version": "1.2.0",
          "model_name": "LayoutModel",
          "state": {
            "_model_module": "@jupyter-widgets/base",
            "_model_module_version": "1.2.0",
            "_model_name": "LayoutModel",
            "_view_count": null,
            "_view_module": "@jupyter-widgets/base",
            "_view_module_version": "1.2.0",
            "_view_name": "LayoutView",
            "align_content": null,
            "align_items": null,
            "align_self": null,
            "border": null,
            "bottom": null,
            "display": null,
            "flex": null,
            "flex_flow": null,
            "grid_area": null,
            "grid_auto_columns": null,
            "grid_auto_flow": null,
            "grid_auto_rows": null,
            "grid_column": null,
            "grid_gap": null,
            "grid_row": null,
            "grid_template_areas": null,
            "grid_template_columns": null,
            "grid_template_rows": null,
            "height": null,
            "justify_content": null,
            "justify_items": null,
            "left": null,
            "margin": null,
            "max_height": null,
            "max_width": null,
            "min_height": null,
            "min_width": null,
            "object_fit": null,
            "object_position": null,
            "order": null,
            "overflow": null,
            "overflow_x": null,
            "overflow_y": null,
            "padding": null,
            "right": null,
            "top": null,
            "visibility": null,
            "width": null
          }
        },
        "72df9e0ad3d74ad2a5e54776a7b746e9": {
          "model_module": "@jupyter-widgets/base",
          "model_module_version": "1.2.0",
          "model_name": "LayoutModel",
          "state": {
            "_model_module": "@jupyter-widgets/base",
            "_model_module_version": "1.2.0",
            "_model_name": "LayoutModel",
            "_view_count": null,
            "_view_module": "@jupyter-widgets/base",
            "_view_module_version": "1.2.0",
            "_view_name": "LayoutView",
            "align_content": null,
            "align_items": null,
            "align_self": null,
            "border": null,
            "bottom": null,
            "display": null,
            "flex": null,
            "flex_flow": null,
            "grid_area": null,
            "grid_auto_columns": null,
            "grid_auto_flow": null,
            "grid_auto_rows": null,
            "grid_column": null,
            "grid_gap": null,
            "grid_row": null,
            "grid_template_areas": null,
            "grid_template_columns": null,
            "grid_template_rows": null,
            "height": null,
            "justify_content": null,
            "justify_items": null,
            "left": null,
            "margin": null,
            "max_height": null,
            "max_width": null,
            "min_height": null,
            "min_width": null,
            "object_fit": null,
            "object_position": null,
            "order": null,
            "overflow": null,
            "overflow_x": null,
            "overflow_y": null,
            "padding": null,
            "right": null,
            "top": null,
            "visibility": null,
            "width": null
          }
        },
        "75d41e050393451c9014acd95967d91e": {
          "model_module": "@jupyter-widgets/controls",
          "model_module_version": "1.5.0",
          "model_name": "HBoxModel",
          "state": {
            "_dom_classes": [],
            "_model_module": "@jupyter-widgets/controls",
            "_model_module_version": "1.5.0",
            "_model_name": "HBoxModel",
            "_view_count": null,
            "_view_module": "@jupyter-widgets/controls",
            "_view_module_version": "1.5.0",
            "_view_name": "HBoxView",
            "box_style": "",
            "children": [
              "IPY_MODEL_02cd50738afb44bdbd8d9f8936ab733f",
              "IPY_MODEL_d67d95ab69ab483e8965d7277d7bf9e2",
              "IPY_MODEL_5b7339c417cd477d9f0e65f2bbe4a405"
            ],
            "layout": "IPY_MODEL_72df9e0ad3d74ad2a5e54776a7b746e9"
          }
        },
        "78b3d823b8914138a81ffa2509ed2d8c": {
          "model_module": "@jupyter-widgets/controls",
          "model_module_version": "1.5.0",
          "model_name": "DescriptionStyleModel",
          "state": {
            "_model_module": "@jupyter-widgets/controls",
            "_model_module_version": "1.5.0",
            "_model_name": "DescriptionStyleModel",
            "_view_count": null,
            "_view_module": "@jupyter-widgets/base",
            "_view_module_version": "1.2.0",
            "_view_name": "StyleView",
            "description_width": ""
          }
        },
        "7a485d39e9a1467eb371fc85420a8a66": {
          "model_module": "@jupyter-widgets/base",
          "model_module_version": "1.2.0",
          "model_name": "LayoutModel",
          "state": {
            "_model_module": "@jupyter-widgets/base",
            "_model_module_version": "1.2.0",
            "_model_name": "LayoutModel",
            "_view_count": null,
            "_view_module": "@jupyter-widgets/base",
            "_view_module_version": "1.2.0",
            "_view_name": "LayoutView",
            "align_content": null,
            "align_items": null,
            "align_self": null,
            "border": null,
            "bottom": null,
            "display": null,
            "flex": null,
            "flex_flow": null,
            "grid_area": null,
            "grid_auto_columns": null,
            "grid_auto_flow": null,
            "grid_auto_rows": null,
            "grid_column": null,
            "grid_gap": null,
            "grid_row": null,
            "grid_template_areas": null,
            "grid_template_columns": null,
            "grid_template_rows": null,
            "height": null,
            "justify_content": null,
            "justify_items": null,
            "left": null,
            "margin": null,
            "max_height": null,
            "max_width": null,
            "min_height": null,
            "min_width": null,
            "object_fit": null,
            "object_position": null,
            "order": null,
            "overflow": null,
            "overflow_x": null,
            "overflow_y": null,
            "padding": null,
            "right": null,
            "top": null,
            "visibility": null,
            "width": null
          }
        },
        "7b4172d33d5348c49fbabd5454e67eab": {
          "model_module": "@jupyter-widgets/controls",
          "model_module_version": "1.5.0",
          "model_name": "HTMLModel",
          "state": {
            "_dom_classes": [],
            "_model_module": "@jupyter-widgets/controls",
            "_model_module_version": "1.5.0",
            "_model_name": "HTMLModel",
            "_view_count": null,
            "_view_module": "@jupyter-widgets/controls",
            "_view_module_version": "1.5.0",
            "_view_name": "HTMLView",
            "description": "",
            "description_tooltip": null,
            "layout": "IPY_MODEL_ef05f79e3367435aaff946efafbfff82",
            "placeholder": "​",
            "style": "IPY_MODEL_0dea842c41f04249863db1cf8c335408",
            "value": "100%"
          }
        },
        "7fd35240cd3844eeb55bb6016d5efee3": {
          "model_module": "@jupyter-widgets/controls",
          "model_module_version": "1.5.0",
          "model_name": "HBoxModel",
          "state": {
            "_dom_classes": [],
            "_model_module": "@jupyter-widgets/controls",
            "_model_module_version": "1.5.0",
            "_model_name": "HBoxModel",
            "_view_count": null,
            "_view_module": "@jupyter-widgets/controls",
            "_view_module_version": "1.5.0",
            "_view_name": "HBoxView",
            "box_style": "",
            "children": [
              "IPY_MODEL_7b4172d33d5348c49fbabd5454e67eab",
              "IPY_MODEL_8f1673b688e744c7a2a2bd800c3dab93",
              "IPY_MODEL_60d7282e48af4022a0dc83d8d7f27ade"
            ],
            "layout": "IPY_MODEL_c5e2b488afb24d988b8ae6270ec00560"
          }
        },
        "882719f543474485b6cf3cb3cfed5672": {
          "model_module": "@jupyter-widgets/base",
          "model_module_version": "1.2.0",
          "model_name": "LayoutModel",
          "state": {
            "_model_module": "@jupyter-widgets/base",
            "_model_module_version": "1.2.0",
            "_model_name": "LayoutModel",
            "_view_count": null,
            "_view_module": "@jupyter-widgets/base",
            "_view_module_version": "1.2.0",
            "_view_name": "LayoutView",
            "align_content": null,
            "align_items": null,
            "align_self": null,
            "border": null,
            "bottom": null,
            "display": null,
            "flex": null,
            "flex_flow": null,
            "grid_area": null,
            "grid_auto_columns": null,
            "grid_auto_flow": null,
            "grid_auto_rows": null,
            "grid_column": null,
            "grid_gap": null,
            "grid_row": null,
            "grid_template_areas": null,
            "grid_template_columns": null,
            "grid_template_rows": null,
            "height": null,
            "justify_content": null,
            "justify_items": null,
            "left": null,
            "margin": null,
            "max_height": null,
            "max_width": null,
            "min_height": null,
            "min_width": null,
            "object_fit": null,
            "object_position": null,
            "order": null,
            "overflow": null,
            "overflow_x": null,
            "overflow_y": null,
            "padding": null,
            "right": null,
            "top": null,
            "visibility": null,
            "width": null
          }
        },
        "89cb0d2b2b874b26afea42b13dc874b1": {
          "model_module": "@jupyter-widgets/controls",
          "model_module_version": "1.5.0",
          "model_name": "DescriptionStyleModel",
          "state": {
            "_model_module": "@jupyter-widgets/controls",
            "_model_module_version": "1.5.0",
            "_model_name": "DescriptionStyleModel",
            "_view_count": null,
            "_view_module": "@jupyter-widgets/base",
            "_view_module_version": "1.2.0",
            "_view_name": "StyleView",
            "description_width": ""
          }
        },
        "8b7361919604413cbf31fea2f116e6fa": {
          "model_module": "@jupyter-widgets/base",
          "model_module_version": "1.2.0",
          "model_name": "LayoutModel",
          "state": {
            "_model_module": "@jupyter-widgets/base",
            "_model_module_version": "1.2.0",
            "_model_name": "LayoutModel",
            "_view_count": null,
            "_view_module": "@jupyter-widgets/base",
            "_view_module_version": "1.2.0",
            "_view_name": "LayoutView",
            "align_content": null,
            "align_items": null,
            "align_self": null,
            "border": null,
            "bottom": null,
            "display": null,
            "flex": null,
            "flex_flow": null,
            "grid_area": null,
            "grid_auto_columns": null,
            "grid_auto_flow": null,
            "grid_auto_rows": null,
            "grid_column": null,
            "grid_gap": null,
            "grid_row": null,
            "grid_template_areas": null,
            "grid_template_columns": null,
            "grid_template_rows": null,
            "height": null,
            "justify_content": null,
            "justify_items": null,
            "left": null,
            "margin": null,
            "max_height": null,
            "max_width": null,
            "min_height": null,
            "min_width": null,
            "object_fit": null,
            "object_position": null,
            "order": null,
            "overflow": null,
            "overflow_x": null,
            "overflow_y": null,
            "padding": null,
            "right": null,
            "top": null,
            "visibility": null,
            "width": null
          }
        },
        "8f1673b688e744c7a2a2bd800c3dab93": {
          "model_module": "@jupyter-widgets/controls",
          "model_module_version": "1.5.0",
          "model_name": "FloatProgressModel",
          "state": {
            "_dom_classes": [],
            "_model_module": "@jupyter-widgets/controls",
            "_model_module_version": "1.5.0",
            "_model_name": "FloatProgressModel",
            "_view_count": null,
            "_view_module": "@jupyter-widgets/controls",
            "_view_module_version": "1.5.0",
            "_view_name": "ProgressView",
            "bar_style": "success",
            "description": "",
            "description_tooltip": null,
            "layout": "IPY_MODEL_bb7b51fa98494714b73c7d6ecc7df14c",
            "max": 26421880,
            "min": 0,
            "orientation": "horizontal",
            "style": "IPY_MODEL_5344c764d59b46e6850110a27eacf88e",
            "value": 26421880
          }
        },
        "92e3a4901be5403da72fd858854c7fe3": {
          "model_module": "@jupyter-widgets/controls",
          "model_module_version": "1.5.0",
          "model_name": "DescriptionStyleModel",
          "state": {
            "_model_module": "@jupyter-widgets/controls",
            "_model_module_version": "1.5.0",
            "_model_name": "DescriptionStyleModel",
            "_view_count": null,
            "_view_module": "@jupyter-widgets/base",
            "_view_module_version": "1.2.0",
            "_view_name": "StyleView",
            "description_width": ""
          }
        },
        "93d4906de9a94f93b9ff805ff2aba01c": {
          "model_module": "@jupyter-widgets/controls",
          "model_module_version": "1.5.0",
          "model_name": "FloatProgressModel",
          "state": {
            "_dom_classes": [],
            "_model_module": "@jupyter-widgets/controls",
            "_model_module_version": "1.5.0",
            "_model_name": "FloatProgressModel",
            "_view_count": null,
            "_view_module": "@jupyter-widgets/controls",
            "_view_module_version": "1.5.0",
            "_view_name": "ProgressView",
            "bar_style": "success",
            "description": "",
            "description_tooltip": null,
            "layout": "IPY_MODEL_bc07d64839c048f4938c1f68adec3835",
            "max": 29515,
            "min": 0,
            "orientation": "horizontal",
            "style": "IPY_MODEL_c8f0b34927144c6ab8661effd74b6b0c",
            "value": 29515
          }
        },
        "a0eee23bc65946bbb027e1563935c9e5": {
          "model_module": "@jupyter-widgets/controls",
          "model_module_version": "1.5.0",
          "model_name": "HTMLModel",
          "state": {
            "_dom_classes": [],
            "_model_module": "@jupyter-widgets/controls",
            "_model_module_version": "1.5.0",
            "_model_name": "HTMLModel",
            "_view_count": null,
            "_view_module": "@jupyter-widgets/controls",
            "_view_module_version": "1.5.0",
            "_view_name": "HTMLView",
            "description": "",
            "description_tooltip": null,
            "layout": "IPY_MODEL_40c0f943a57c47e5bfd89b1dc0a23e2a",
            "placeholder": "​",
            "style": "IPY_MODEL_537ab70a3f5c4862bb5771feaeacb492",
            "value": "100%"
          }
        },
        "ace068212eab4779a696162d9a8d694d": {
          "model_module": "@jupyter-widgets/controls",
          "model_module_version": "1.5.0",
          "model_name": "FloatProgressModel",
          "state": {
            "_dom_classes": [],
            "_model_module": "@jupyter-widgets/controls",
            "_model_module_version": "1.5.0",
            "_model_name": "FloatProgressModel",
            "_view_count": null,
            "_view_module": "@jupyter-widgets/controls",
            "_view_module_version": "1.5.0",
            "_view_name": "ProgressView",
            "bar_style": "success",
            "description": "",
            "description_tooltip": null,
            "layout": "IPY_MODEL_d32ee14f8b484ca382902a49fa5b7b0a",
            "max": 5148,
            "min": 0,
            "orientation": "horizontal",
            "style": "IPY_MODEL_bc7c7d40fd294f64a8ed8fc9cb136930",
            "value": 5148
          }
        },
        "b63b2e09771c48278fd4aae4eec47e6a": {
          "model_module": "@jupyter-widgets/base",
          "model_module_version": "1.2.0",
          "model_name": "LayoutModel",
          "state": {
            "_model_module": "@jupyter-widgets/base",
            "_model_module_version": "1.2.0",
            "_model_name": "LayoutModel",
            "_view_count": null,
            "_view_module": "@jupyter-widgets/base",
            "_view_module_version": "1.2.0",
            "_view_name": "LayoutView",
            "align_content": null,
            "align_items": null,
            "align_self": null,
            "border": null,
            "bottom": null,
            "display": null,
            "flex": null,
            "flex_flow": null,
            "grid_area": null,
            "grid_auto_columns": null,
            "grid_auto_flow": null,
            "grid_auto_rows": null,
            "grid_column": null,
            "grid_gap": null,
            "grid_row": null,
            "grid_template_areas": null,
            "grid_template_columns": null,
            "grid_template_rows": null,
            "height": null,
            "justify_content": null,
            "justify_items": null,
            "left": null,
            "margin": null,
            "max_height": null,
            "max_width": null,
            "min_height": null,
            "min_width": null,
            "object_fit": null,
            "object_position": null,
            "order": null,
            "overflow": null,
            "overflow_x": null,
            "overflow_y": null,
            "padding": null,
            "right": null,
            "top": null,
            "visibility": null,
            "width": null
          }
        },
        "bb7b51fa98494714b73c7d6ecc7df14c": {
          "model_module": "@jupyter-widgets/base",
          "model_module_version": "1.2.0",
          "model_name": "LayoutModel",
          "state": {
            "_model_module": "@jupyter-widgets/base",
            "_model_module_version": "1.2.0",
            "_model_name": "LayoutModel",
            "_view_count": null,
            "_view_module": "@jupyter-widgets/base",
            "_view_module_version": "1.2.0",
            "_view_name": "LayoutView",
            "align_content": null,
            "align_items": null,
            "align_self": null,
            "border": null,
            "bottom": null,
            "display": null,
            "flex": null,
            "flex_flow": null,
            "grid_area": null,
            "grid_auto_columns": null,
            "grid_auto_flow": null,
            "grid_auto_rows": null,
            "grid_column": null,
            "grid_gap": null,
            "grid_row": null,
            "grid_template_areas": null,
            "grid_template_columns": null,
            "grid_template_rows": null,
            "height": null,
            "justify_content": null,
            "justify_items": null,
            "left": null,
            "margin": null,
            "max_height": null,
            "max_width": null,
            "min_height": null,
            "min_width": null,
            "object_fit": null,
            "object_position": null,
            "order": null,
            "overflow": null,
            "overflow_x": null,
            "overflow_y": null,
            "padding": null,
            "right": null,
            "top": null,
            "visibility": null,
            "width": null
          }
        },
        "bc07d64839c048f4938c1f68adec3835": {
          "model_module": "@jupyter-widgets/base",
          "model_module_version": "1.2.0",
          "model_name": "LayoutModel",
          "state": {
            "_model_module": "@jupyter-widgets/base",
            "_model_module_version": "1.2.0",
            "_model_name": "LayoutModel",
            "_view_count": null,
            "_view_module": "@jupyter-widgets/base",
            "_view_module_version": "1.2.0",
            "_view_name": "LayoutView",
            "align_content": null,
            "align_items": null,
            "align_self": null,
            "border": null,
            "bottom": null,
            "display": null,
            "flex": null,
            "flex_flow": null,
            "grid_area": null,
            "grid_auto_columns": null,
            "grid_auto_flow": null,
            "grid_auto_rows": null,
            "grid_column": null,
            "grid_gap": null,
            "grid_row": null,
            "grid_template_areas": null,
            "grid_template_columns": null,
            "grid_template_rows": null,
            "height": null,
            "justify_content": null,
            "justify_items": null,
            "left": null,
            "margin": null,
            "max_height": null,
            "max_width": null,
            "min_height": null,
            "min_width": null,
            "object_fit": null,
            "object_position": null,
            "order": null,
            "overflow": null,
            "overflow_x": null,
            "overflow_y": null,
            "padding": null,
            "right": null,
            "top": null,
            "visibility": null,
            "width": null
          }
        },
        "bc7c7d40fd294f64a8ed8fc9cb136930": {
          "model_module": "@jupyter-widgets/controls",
          "model_module_version": "1.5.0",
          "model_name": "ProgressStyleModel",
          "state": {
            "_model_module": "@jupyter-widgets/controls",
            "_model_module_version": "1.5.0",
            "_model_name": "ProgressStyleModel",
            "_view_count": null,
            "_view_module": "@jupyter-widgets/base",
            "_view_module_version": "1.2.0",
            "_view_name": "StyleView",
            "bar_color": null,
            "description_width": ""
          }
        },
        "bd641ee5b38c4615a6f85c509ee135d0": {
          "model_module": "@jupyter-widgets/base",
          "model_module_version": "1.2.0",
          "model_name": "LayoutModel",
          "state": {
            "_model_module": "@jupyter-widgets/base",
            "_model_module_version": "1.2.0",
            "_model_name": "LayoutModel",
            "_view_count": null,
            "_view_module": "@jupyter-widgets/base",
            "_view_module_version": "1.2.0",
            "_view_name": "LayoutView",
            "align_content": null,
            "align_items": null,
            "align_self": null,
            "border": null,
            "bottom": null,
            "display": null,
            "flex": null,
            "flex_flow": null,
            "grid_area": null,
            "grid_auto_columns": null,
            "grid_auto_flow": null,
            "grid_auto_rows": null,
            "grid_column": null,
            "grid_gap": null,
            "grid_row": null,
            "grid_template_areas": null,
            "grid_template_columns": null,
            "grid_template_rows": null,
            "height": null,
            "justify_content": null,
            "justify_items": null,
            "left": null,
            "margin": null,
            "max_height": null,
            "max_width": null,
            "min_height": null,
            "min_width": null,
            "object_fit": null,
            "object_position": null,
            "order": null,
            "overflow": null,
            "overflow_x": null,
            "overflow_y": null,
            "padding": null,
            "right": null,
            "top": null,
            "visibility": null,
            "width": null
          }
        },
        "c5e2b488afb24d988b8ae6270ec00560": {
          "model_module": "@jupyter-widgets/base",
          "model_module_version": "1.2.0",
          "model_name": "LayoutModel",
          "state": {
            "_model_module": "@jupyter-widgets/base",
            "_model_module_version": "1.2.0",
            "_model_name": "LayoutModel",
            "_view_count": null,
            "_view_module": "@jupyter-widgets/base",
            "_view_module_version": "1.2.0",
            "_view_name": "LayoutView",
            "align_content": null,
            "align_items": null,
            "align_self": null,
            "border": null,
            "bottom": null,
            "display": null,
            "flex": null,
            "flex_flow": null,
            "grid_area": null,
            "grid_auto_columns": null,
            "grid_auto_flow": null,
            "grid_auto_rows": null,
            "grid_column": null,
            "grid_gap": null,
            "grid_row": null,
            "grid_template_areas": null,
            "grid_template_columns": null,
            "grid_template_rows": null,
            "height": null,
            "justify_content": null,
            "justify_items": null,
            "left": null,
            "margin": null,
            "max_height": null,
            "max_width": null,
            "min_height": null,
            "min_width": null,
            "object_fit": null,
            "object_position": null,
            "order": null,
            "overflow": null,
            "overflow_x": null,
            "overflow_y": null,
            "padding": null,
            "right": null,
            "top": null,
            "visibility": null,
            "width": null
          }
        },
        "c8f0b34927144c6ab8661effd74b6b0c": {
          "model_module": "@jupyter-widgets/controls",
          "model_module_version": "1.5.0",
          "model_name": "ProgressStyleModel",
          "state": {
            "_model_module": "@jupyter-widgets/controls",
            "_model_module_version": "1.5.0",
            "_model_name": "ProgressStyleModel",
            "_view_count": null,
            "_view_module": "@jupyter-widgets/base",
            "_view_module_version": "1.2.0",
            "_view_name": "StyleView",
            "bar_color": null,
            "description_width": ""
          }
        },
        "d32ee14f8b484ca382902a49fa5b7b0a": {
          "model_module": "@jupyter-widgets/base",
          "model_module_version": "1.2.0",
          "model_name": "LayoutModel",
          "state": {
            "_model_module": "@jupyter-widgets/base",
            "_model_module_version": "1.2.0",
            "_model_name": "LayoutModel",
            "_view_count": null,
            "_view_module": "@jupyter-widgets/base",
            "_view_module_version": "1.2.0",
            "_view_name": "LayoutView",
            "align_content": null,
            "align_items": null,
            "align_self": null,
            "border": null,
            "bottom": null,
            "display": null,
            "flex": null,
            "flex_flow": null,
            "grid_area": null,
            "grid_auto_columns": null,
            "grid_auto_flow": null,
            "grid_auto_rows": null,
            "grid_column": null,
            "grid_gap": null,
            "grid_row": null,
            "grid_template_areas": null,
            "grid_template_columns": null,
            "grid_template_rows": null,
            "height": null,
            "justify_content": null,
            "justify_items": null,
            "left": null,
            "margin": null,
            "max_height": null,
            "max_width": null,
            "min_height": null,
            "min_width": null,
            "object_fit": null,
            "object_position": null,
            "order": null,
            "overflow": null,
            "overflow_x": null,
            "overflow_y": null,
            "padding": null,
            "right": null,
            "top": null,
            "visibility": null,
            "width": null
          }
        },
        "d67d95ab69ab483e8965d7277d7bf9e2": {
          "model_module": "@jupyter-widgets/controls",
          "model_module_version": "1.5.0",
          "model_name": "FloatProgressModel",
          "state": {
            "_dom_classes": [],
            "_model_module": "@jupyter-widgets/controls",
            "_model_module_version": "1.5.0",
            "_model_name": "FloatProgressModel",
            "_view_count": null,
            "_view_module": "@jupyter-widgets/controls",
            "_view_module_version": "1.5.0",
            "_view_name": "ProgressView",
            "bar_style": "success",
            "description": "",
            "description_tooltip": null,
            "layout": "IPY_MODEL_7a485d39e9a1467eb371fc85420a8a66",
            "max": 4422102,
            "min": 0,
            "orientation": "horizontal",
            "style": "IPY_MODEL_f368beacdf45466dafc0d2799b9c0368",
            "value": 4422102
          }
        },
        "dbeab06580f948db930d5f0ab02168d4": {
          "model_module": "@jupyter-widgets/base",
          "model_module_version": "1.2.0",
          "model_name": "LayoutModel",
          "state": {
            "_model_module": "@jupyter-widgets/base",
            "_model_module_version": "1.2.0",
            "_model_name": "LayoutModel",
            "_view_count": null,
            "_view_module": "@jupyter-widgets/base",
            "_view_module_version": "1.2.0",
            "_view_name": "LayoutView",
            "align_content": null,
            "align_items": null,
            "align_self": null,
            "border": null,
            "bottom": null,
            "display": null,
            "flex": null,
            "flex_flow": null,
            "grid_area": null,
            "grid_auto_columns": null,
            "grid_auto_flow": null,
            "grid_auto_rows": null,
            "grid_column": null,
            "grid_gap": null,
            "grid_row": null,
            "grid_template_areas": null,
            "grid_template_columns": null,
            "grid_template_rows": null,
            "height": null,
            "justify_content": null,
            "justify_items": null,
            "left": null,
            "margin": null,
            "max_height": null,
            "max_width": null,
            "min_height": null,
            "min_width": null,
            "object_fit": null,
            "object_position": null,
            "order": null,
            "overflow": null,
            "overflow_x": null,
            "overflow_y": null,
            "padding": null,
            "right": null,
            "top": null,
            "visibility": null,
            "width": null
          }
        },
        "de42b04378764dc68cb742253ecaca25": {
          "model_module": "@jupyter-widgets/controls",
          "model_module_version": "1.5.0",
          "model_name": "DescriptionStyleModel",
          "state": {
            "_model_module": "@jupyter-widgets/controls",
            "_model_module_version": "1.5.0",
            "_model_name": "DescriptionStyleModel",
            "_view_count": null,
            "_view_module": "@jupyter-widgets/base",
            "_view_module_version": "1.2.0",
            "_view_name": "StyleView",
            "description_width": ""
          }
        },
        "ea55b3ac9187449c9b01b17a05074007": {
          "model_module": "@jupyter-widgets/controls",
          "model_module_version": "1.5.0",
          "model_name": "HTMLModel",
          "state": {
            "_dom_classes": [],
            "_model_module": "@jupyter-widgets/controls",
            "_model_module_version": "1.5.0",
            "_model_name": "HTMLModel",
            "_view_count": null,
            "_view_module": "@jupyter-widgets/controls",
            "_view_module_version": "1.5.0",
            "_view_name": "HTMLView",
            "description": "",
            "description_tooltip": null,
            "layout": "IPY_MODEL_b63b2e09771c48278fd4aae4eec47e6a",
            "placeholder": "​",
            "style": "IPY_MODEL_78b3d823b8914138a81ffa2509ed2d8c",
            "value": " 5148/5148 [00:00&lt;00:00, 78909.05it/s]"
          }
        },
        "eeed7b1e65a74dbeb9c55d61d1633b02": {
          "model_module": "@jupyter-widgets/controls",
          "model_module_version": "1.5.0",
          "model_name": "HBoxModel",
          "state": {
            "_dom_classes": [],
            "_model_module": "@jupyter-widgets/controls",
            "_model_module_version": "1.5.0",
            "_model_name": "HBoxModel",
            "_view_count": null,
            "_view_module": "@jupyter-widgets/controls",
            "_view_module_version": "1.5.0",
            "_view_name": "HBoxView",
            "box_style": "",
            "children": [
              "IPY_MODEL_41098b7a254142549c2dc7bc58c16f73",
              "IPY_MODEL_93d4906de9a94f93b9ff805ff2aba01c",
              "IPY_MODEL_3f00e7d75a644fd5883382eeaea9e71b"
            ],
            "layout": "IPY_MODEL_882719f543474485b6cf3cb3cfed5672"
          }
        },
        "ef05f79e3367435aaff946efafbfff82": {
          "model_module": "@jupyter-widgets/base",
          "model_module_version": "1.2.0",
          "model_name": "LayoutModel",
          "state": {
            "_model_module": "@jupyter-widgets/base",
            "_model_module_version": "1.2.0",
            "_model_name": "LayoutModel",
            "_view_count": null,
            "_view_module": "@jupyter-widgets/base",
            "_view_module_version": "1.2.0",
            "_view_name": "LayoutView",
            "align_content": null,
            "align_items": null,
            "align_self": null,
            "border": null,
            "bottom": null,
            "display": null,
            "flex": null,
            "flex_flow": null,
            "grid_area": null,
            "grid_auto_columns": null,
            "grid_auto_flow": null,
            "grid_auto_rows": null,
            "grid_column": null,
            "grid_gap": null,
            "grid_row": null,
            "grid_template_areas": null,
            "grid_template_columns": null,
            "grid_template_rows": null,
            "height": null,
            "justify_content": null,
            "justify_items": null,
            "left": null,
            "margin": null,
            "max_height": null,
            "max_width": null,
            "min_height": null,
            "min_width": null,
            "object_fit": null,
            "object_position": null,
            "order": null,
            "overflow": null,
            "overflow_x": null,
            "overflow_y": null,
            "padding": null,
            "right": null,
            "top": null,
            "visibility": null,
            "width": null
          }
        },
        "f368beacdf45466dafc0d2799b9c0368": {
          "model_module": "@jupyter-widgets/controls",
          "model_module_version": "1.5.0",
          "model_name": "ProgressStyleModel",
          "state": {
            "_model_module": "@jupyter-widgets/controls",
            "_model_module_version": "1.5.0",
            "_model_name": "ProgressStyleModel",
            "_view_count": null,
            "_view_module": "@jupyter-widgets/base",
            "_view_module_version": "1.2.0",
            "_view_name": "StyleView",
            "bar_color": null,
            "description_width": ""
          }
        }
      }
    }
  },
  "nbformat": 4,
  "nbformat_minor": 0
}
